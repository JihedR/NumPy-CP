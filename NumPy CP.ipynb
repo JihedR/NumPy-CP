{
 "cells": [
  {
   "cell_type": "code",
   "execution_count": 2,
   "id": "06008175",
   "metadata": {},
   "outputs": [],
   "source": [
    "import numpy as np"
   ]
  },
  {
   "cell_type": "code",
   "execution_count": 7,
   "id": "35914f41",
   "metadata": {},
   "outputs": [
    {
     "name": "stdout",
     "output_type": "stream",
     "text": [
      "[[1 2 3]\n",
      " [4 5 6]]\n",
      "[[1, 2, 3], [4, 5, 6]]\n"
     ]
    }
   ],
   "source": [
    "#Question 1\n",
    "x=np.array([[1,2,3],[4,5,6]])\n",
    "y=x.tolist()\n",
    "print(x)\n",
    "print(y)"
   ]
  },
  {
   "cell_type": "code",
   "execution_count": 19,
   "id": "95501650",
   "metadata": {},
   "outputs": [
    {
     "name": "stdout",
     "output_type": "stream",
     "text": [
      "2\n",
      "3\n"
     ]
    }
   ],
   "source": [
    "#Question 2\n",
    "Q2=np.array([[1,3,6],[3,0,1],[0,6,1]])\n",
    "print(R2)\n",
    "for i in range(1,len(Q2)):\n",
    "    R2+=Q2[i,i]\n",
    "print(R2)"
   ]
  },
  {
   "cell_type": "code",
   "execution_count": 29,
   "id": "34b2ba0b",
   "metadata": {},
   "outputs": [
    {
     "name": "stdout",
     "output_type": "stream",
     "text": [
      "[3, 4, 5, 6, 3, 6]\n"
     ]
    }
   ],
   "source": [
    "#Question 3\n",
    "Q3=np.array([[1,2,3],[4,5,6],[3,6,1]])\n",
    "X=2\n",
    "Q3List=[]\n",
    "for k in range(len(Q3)):\n",
    "    for i in range(len(Q3[k])):\n",
    "        if Q3[k,i]>X:\n",
    "            Q3List.append(Q3[k,i])\n",
    "print(Q3List)"
   ]
  },
  {
   "cell_type": "code",
   "execution_count": 12,
   "id": "4959f2f5",
   "metadata": {},
   "outputs": [
    {
     "name": "stdout",
     "output_type": "stream",
     "text": [
      "[[7 7 7]\n",
      " [7 7 7]]\n"
     ]
    }
   ],
   "source": [
    "#Question 4\n",
    "A=np.array([[1,2,3],[4,5,6]])\n",
    "B=np.array([[6,5,4],[3,2,1]])\n",
    "C=A+B\n",
    "print(C)"
   ]
  },
  {
   "cell_type": "code",
   "execution_count": 11,
   "id": "15c0b5ec",
   "metadata": {},
   "outputs": [
    {
     "name": "stdout",
     "output_type": "stream",
     "text": [
      "Mean of row # 0 :  2 / Mean of row # 1 :  5 / Mean of row # 2 :  2 / "
     ]
    }
   ],
   "source": [
    "#Question 5\n",
    "import statistics\n",
    "Q5=np.array([[1,2,3],[4,5,6],[1,3,2]])\n",
    "for j in range(len(Q5)):\n",
    "    h=statistics.mean(Q5[j,:])\n",
    "    print(\"Mean of row #\",j,\": \",h,end=\" / \")"
   ]
  },
  {
   "cell_type": "code",
   "execution_count": null,
   "id": "03d59230",
   "metadata": {},
   "outputs": [],
   "source": []
  }
 ],
 "metadata": {
  "kernelspec": {
   "display_name": "Python 3",
   "language": "python",
   "name": "python3"
  },
  "language_info": {
   "codemirror_mode": {
    "name": "ipython",
    "version": 3
   },
   "file_extension": ".py",
   "mimetype": "text/x-python",
   "name": "python",
   "nbconvert_exporter": "python",
   "pygments_lexer": "ipython3",
   "version": "3.8.8"
  }
 },
 "nbformat": 4,
 "nbformat_minor": 5
}
